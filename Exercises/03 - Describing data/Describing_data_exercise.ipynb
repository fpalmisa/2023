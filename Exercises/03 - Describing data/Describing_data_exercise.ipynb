{
 "cells": [
  {
   "cell_type": "markdown",
   "metadata": {},
   "source": [
    "# Describing Data\n",
    "\n",
    "### What do you find in this notebook?\n",
    "\n",
    "In this exercise, first, you will familiarize yourself with the Python libraries 'statsmodels' and 'SciPy' that let you do statistical analysis: calculate descriptive statistics, sample datapoints, study relationships between variables, and perform hypothesis testing. Then, second, you will work on a set of exercises that will let you practice your skills.\n",
    "\n",
    "Here we show a couple of examples of how to do common analyses, but there are many more useful probability distributions and statistical tests. In the linked documentation, you will find complete information, and a lot more details compared to what is outlined in this notebook:\n",
    "- [statsmodels](https://www.statsmodels.org/stable/examples/index.html), [more complete documentation](https://www.statsmodels.org/stable/stats.html)\n",
    "- [SciPy](https://docs.scipy.org/doc/scipy/reference/stats.html)"
   ]
  },
  {
   "cell_type": "markdown",
   "metadata": {},
   "source": [
    "# Tutorial: How to use the libraries\n",
    "\n",
    "- You will be working with the full US 2015 census dataset (acs2015_county_data.csv, available at https://www.kaggle.com/muonneutrino/us-census-demographic-data#acs2015_county_data.csv). Here we load it. Take some time to familiarize yourself with the contents. One row represents one county."
   ]
  },
  {
   "cell_type": "code",
   "execution_count": 1,
   "metadata": {},
   "outputs": [
    {
     "name": "stdout",
     "output_type": "stream",
     "text": [
      "Collecting statsmodels\n",
      "  Downloading statsmodels-0.14.0-cp311-cp311-win_amd64.whl (9.2 MB)\n",
      "     ---------------------------------------- 0.0/9.2 MB ? eta -:--:--\n",
      "     ---------------------------------------- 0.0/9.2 MB ? eta -:--:--\n",
      "     ---------------------------------------- 0.0/9.2 MB ? eta -:--:--\n",
      "     ---------------------------------------- 0.0/9.2 MB ? eta -:--:--\n",
      "     ---------------------------------------- 0.0/9.2 MB 163.8 kB/s eta 0:00:56\n",
      "     ---------------------------------------- 0.1/9.2 MB 233.8 kB/s eta 0:00:40\n",
      "     ---------------------------------------- 0.1/9.2 MB 262.6 kB/s eta 0:00:35\n",
      "      --------------------------------------- 0.1/9.2 MB 448.2 kB/s eta 0:00:21\n",
      "     - -------------------------------------- 0.3/9.2 MB 741.6 kB/s eta 0:00:13\n",
      "     - -------------------------------------- 0.4/9.2 MB 983.6 kB/s eta 0:00:09\n",
      "     -- ------------------------------------- 0.5/9.2 MB 1.1 MB/s eta 0:00:08\n",
      "     -- ------------------------------------- 0.7/9.2 MB 1.3 MB/s eta 0:00:07\n",
      "     --- ------------------------------------ 0.9/9.2 MB 1.5 MB/s eta 0:00:06\n",
      "     ---- ----------------------------------- 1.0/9.2 MB 1.5 MB/s eta 0:00:06\n",
      "     ---- ----------------------------------- 1.1/9.2 MB 1.6 MB/s eta 0:00:05\n",
      "     ----- ---------------------------------- 1.3/9.2 MB 1.7 MB/s eta 0:00:05\n",
      "     ------ --------------------------------- 1.4/9.2 MB 1.8 MB/s eta 0:00:05\n",
      "     ------ --------------------------------- 1.5/9.2 MB 1.9 MB/s eta 0:00:05\n",
      "     ------- -------------------------------- 1.7/9.2 MB 2.0 MB/s eta 0:00:04\n",
      "     ------- -------------------------------- 1.8/9.2 MB 2.0 MB/s eta 0:00:04\n",
      "     -------- ------------------------------- 2.0/9.2 MB 2.1 MB/s eta 0:00:04\n",
      "     --------- ------------------------------ 2.2/9.2 MB 2.1 MB/s eta 0:00:04\n",
      "     ---------- ----------------------------- 2.3/9.2 MB 2.2 MB/s eta 0:00:04\n",
      "     ---------- ----------------------------- 2.5/9.2 MB 2.3 MB/s eta 0:00:03\n",
      "     ----------- ---------------------------- 2.7/9.2 MB 2.3 MB/s eta 0:00:03\n",
      "     ------------ --------------------------- 2.9/9.2 MB 2.4 MB/s eta 0:00:03\n",
      "     ------------- -------------------------- 3.1/9.2 MB 2.5 MB/s eta 0:00:03\n",
      "     -------------- ------------------------- 3.4/9.2 MB 2.6 MB/s eta 0:00:03\n",
      "     --------------- ------------------------ 3.6/9.2 MB 2.6 MB/s eta 0:00:03\n",
      "     ---------------- ----------------------- 3.8/9.2 MB 2.7 MB/s eta 0:00:03\n",
      "     ----------------- ---------------------- 4.0/9.2 MB 2.8 MB/s eta 0:00:02\n",
      "     ------------------ --------------------- 4.3/9.2 MB 2.8 MB/s eta 0:00:02\n",
      "     ------------------- -------------------- 4.4/9.2 MB 2.9 MB/s eta 0:00:02\n",
      "     -------------------- ------------------- 4.6/9.2 MB 2.9 MB/s eta 0:00:02\n",
      "     --------------------- ------------------ 4.9/9.2 MB 2.9 MB/s eta 0:00:02\n",
      "     ---------------------- ----------------- 5.2/9.2 MB 3.1 MB/s eta 0:00:02\n",
      "     ----------------------- ---------------- 5.4/9.2 MB 3.1 MB/s eta 0:00:02\n",
      "     ------------------------ --------------- 5.7/9.2 MB 3.1 MB/s eta 0:00:02\n",
      "     ------------------------- -------------- 5.9/9.2 MB 3.2 MB/s eta 0:00:02\n",
      "     -------------------------- ------------- 6.0/9.2 MB 3.2 MB/s eta 0:00:01\n",
      "     --------------------------- ------------ 6.3/9.2 MB 3.2 MB/s eta 0:00:01\n",
      "     ---------------------------- ----------- 6.4/9.2 MB 3.2 MB/s eta 0:00:01\n",
      "     ----------------------------- ---------- 6.7/9.2 MB 3.3 MB/s eta 0:00:01\n",
      "     ------------------------------ --------- 7.0/9.2 MB 3.4 MB/s eta 0:00:01\n",
      "     ------------------------------- -------- 7.3/9.2 MB 3.5 MB/s eta 0:00:01\n",
      "     -------------------------------- ------- 7.5/9.2 MB 3.5 MB/s eta 0:00:01\n",
      "     ---------------------------------- ----- 7.8/9.2 MB 3.5 MB/s eta 0:00:01\n",
      "     ----------------------------------- ---- 8.1/9.2 MB 3.6 MB/s eta 0:00:01\n",
      "     ------------------------------------ --- 8.4/9.2 MB 3.7 MB/s eta 0:00:01\n",
      "     ------------------------------------- -- 8.7/9.2 MB 3.7 MB/s eta 0:00:01\n",
      "     -------------------------------------- - 8.9/9.2 MB 3.7 MB/s eta 0:00:01\n",
      "     ---------------------------------------  9.2/9.2 MB 3.8 MB/s eta 0:00:01\n",
      "     ---------------------------------------  9.2/9.2 MB 3.8 MB/s eta 0:00:01\n",
      "     ---------------------------------------- 9.2/9.2 MB 3.6 MB/s eta 0:00:00\n",
      "Requirement already satisfied: numpy>=1.18 in c:\\users\\goali\\appdata\\local\\packages\\pythonsoftwarefoundation.python.3.11_qbz5n2kfra8p0\\localcache\\local-packages\\python311\\site-packages (from statsmodels) (1.26.0)\n",
      "Requirement already satisfied: scipy!=1.9.2,>=1.4 in c:\\users\\goali\\appdata\\local\\packages\\pythonsoftwarefoundation.python.3.11_qbz5n2kfra8p0\\localcache\\local-packages\\python311\\site-packages (from statsmodels) (1.11.2)\n",
      "Requirement already satisfied: pandas>=1.0 in c:\\users\\goali\\appdata\\local\\packages\\pythonsoftwarefoundation.python.3.11_qbz5n2kfra8p0\\localcache\\local-packages\\python311\\site-packages (from statsmodels) (2.1.1)\n",
      "Collecting patsy>=0.5.2 (from statsmodels)\n",
      "  Downloading patsy-0.5.3-py2.py3-none-any.whl (233 kB)\n",
      "     ---------------------------------------- 0.0/233.8 kB ? eta -:--:--\n",
      "     --------------- ----------------------- 92.2/233.8 kB 2.6 MB/s eta 0:00:01\n",
      "     -------------------------------------- 233.8/233.8 kB 3.6 MB/s eta 0:00:00\n",
      "Requirement already satisfied: packaging>=21.3 in c:\\users\\goali\\appdata\\local\\packages\\pythonsoftwarefoundation.python.3.11_qbz5n2kfra8p0\\localcache\\local-packages\\python311\\site-packages (from statsmodels) (23.1)\n",
      "Requirement already satisfied: python-dateutil>=2.8.2 in c:\\users\\goali\\appdata\\local\\packages\\pythonsoftwarefoundation.python.3.11_qbz5n2kfra8p0\\localcache\\local-packages\\python311\\site-packages (from pandas>=1.0->statsmodels) (2.8.2)\n",
      "Requirement already satisfied: pytz>=2020.1 in c:\\users\\goali\\appdata\\local\\packages\\pythonsoftwarefoundation.python.3.11_qbz5n2kfra8p0\\localcache\\local-packages\\python311\\site-packages (from pandas>=1.0->statsmodels) (2023.3.post1)\n",
      "Requirement already satisfied: tzdata>=2022.1 in c:\\users\\goali\\appdata\\local\\packages\\pythonsoftwarefoundation.python.3.11_qbz5n2kfra8p0\\localcache\\local-packages\\python311\\site-packages (from pandas>=1.0->statsmodels) (2023.3)\n",
      "Requirement already satisfied: six in c:\\users\\goali\\appdata\\local\\packages\\pythonsoftwarefoundation.python.3.11_qbz5n2kfra8p0\\localcache\\local-packages\\python311\\site-packages (from patsy>=0.5.2->statsmodels) (1.16.0)\n",
      "Installing collected packages: patsy, statsmodels\n",
      "Successfully installed patsy-0.5.3 statsmodels-0.14.0\n"
     ]
    }
   ],
   "source": [
    "!pip install statsmodels\n"
   ]
  },
  {
   "cell_type": "code",
   "execution_count": 10,
   "metadata": {
    "tags": []
   },
   "outputs": [],
   "source": [
    "import pandas as pd\n",
    "import pandas as pd\n",
    "import numpy as np\n",
    "import matplotlib.pyplot as plt\n",
    "%matplotlib inline\n",
    "import seaborn as sns\n",
    "import math\n",
    "\n",
    "#load the statistical libraries\n",
    "from statsmodels.stats import diagnostic\n",
    "from scipy import stats"
   ]
  },
  {
   "cell_type": "code",
   "execution_count": 15,
   "metadata": {
    "tags": []
   },
   "outputs": [
    {
     "data": {
      "text/html": [
       "<div>\n",
       "<style scoped>\n",
       "    .dataframe tbody tr th:only-of-type {\n",
       "        vertical-align: middle;\n",
       "    }\n",
       "\n",
       "    .dataframe tbody tr th {\n",
       "        vertical-align: top;\n",
       "    }\n",
       "\n",
       "    .dataframe thead th {\n",
       "        text-align: right;\n",
       "    }\n",
       "</style>\n",
       "<table border=\"1\" class=\"dataframe\">\n",
       "  <thead>\n",
       "    <tr style=\"text-align: right;\">\n",
       "      <th></th>\n",
       "      <th>CensusId</th>\n",
       "      <th>State</th>\n",
       "      <th>County</th>\n",
       "      <th>TotalPop</th>\n",
       "      <th>Men</th>\n",
       "      <th>Women</th>\n",
       "      <th>Hispanic</th>\n",
       "      <th>White</th>\n",
       "      <th>Black</th>\n",
       "      <th>Native</th>\n",
       "      <th>...</th>\n",
       "      <th>Walk</th>\n",
       "      <th>OtherTransp</th>\n",
       "      <th>WorkAtHome</th>\n",
       "      <th>MeanCommute</th>\n",
       "      <th>Employed</th>\n",
       "      <th>PrivateWork</th>\n",
       "      <th>PublicWork</th>\n",
       "      <th>SelfEmployed</th>\n",
       "      <th>FamilyWork</th>\n",
       "      <th>Unemployment</th>\n",
       "    </tr>\n",
       "  </thead>\n",
       "  <tbody>\n",
       "    <tr>\n",
       "      <th>0</th>\n",
       "      <td>1001</td>\n",
       "      <td>Alabama</td>\n",
       "      <td>Autauga</td>\n",
       "      <td>55221</td>\n",
       "      <td>26745</td>\n",
       "      <td>28476</td>\n",
       "      <td>2.6</td>\n",
       "      <td>75.8</td>\n",
       "      <td>18.5</td>\n",
       "      <td>0.4</td>\n",
       "      <td>...</td>\n",
       "      <td>0.5</td>\n",
       "      <td>1.3</td>\n",
       "      <td>1.8</td>\n",
       "      <td>26.5</td>\n",
       "      <td>23986</td>\n",
       "      <td>73.6</td>\n",
       "      <td>20.9</td>\n",
       "      <td>5.5</td>\n",
       "      <td>0.0</td>\n",
       "      <td>7.6</td>\n",
       "    </tr>\n",
       "    <tr>\n",
       "      <th>1</th>\n",
       "      <td>1003</td>\n",
       "      <td>Alabama</td>\n",
       "      <td>Baldwin</td>\n",
       "      <td>195121</td>\n",
       "      <td>95314</td>\n",
       "      <td>99807</td>\n",
       "      <td>4.5</td>\n",
       "      <td>83.1</td>\n",
       "      <td>9.5</td>\n",
       "      <td>0.6</td>\n",
       "      <td>...</td>\n",
       "      <td>1.0</td>\n",
       "      <td>1.4</td>\n",
       "      <td>3.9</td>\n",
       "      <td>26.4</td>\n",
       "      <td>85953</td>\n",
       "      <td>81.5</td>\n",
       "      <td>12.3</td>\n",
       "      <td>5.8</td>\n",
       "      <td>0.4</td>\n",
       "      <td>7.5</td>\n",
       "    </tr>\n",
       "    <tr>\n",
       "      <th>2</th>\n",
       "      <td>1005</td>\n",
       "      <td>Alabama</td>\n",
       "      <td>Barbour</td>\n",
       "      <td>26932</td>\n",
       "      <td>14497</td>\n",
       "      <td>12435</td>\n",
       "      <td>4.6</td>\n",
       "      <td>46.2</td>\n",
       "      <td>46.7</td>\n",
       "      <td>0.2</td>\n",
       "      <td>...</td>\n",
       "      <td>1.8</td>\n",
       "      <td>1.5</td>\n",
       "      <td>1.6</td>\n",
       "      <td>24.1</td>\n",
       "      <td>8597</td>\n",
       "      <td>71.8</td>\n",
       "      <td>20.8</td>\n",
       "      <td>7.3</td>\n",
       "      <td>0.1</td>\n",
       "      <td>17.6</td>\n",
       "    </tr>\n",
       "    <tr>\n",
       "      <th>3</th>\n",
       "      <td>1007</td>\n",
       "      <td>Alabama</td>\n",
       "      <td>Bibb</td>\n",
       "      <td>22604</td>\n",
       "      <td>12073</td>\n",
       "      <td>10531</td>\n",
       "      <td>2.2</td>\n",
       "      <td>74.5</td>\n",
       "      <td>21.4</td>\n",
       "      <td>0.4</td>\n",
       "      <td>...</td>\n",
       "      <td>0.6</td>\n",
       "      <td>1.5</td>\n",
       "      <td>0.7</td>\n",
       "      <td>28.8</td>\n",
       "      <td>8294</td>\n",
       "      <td>76.8</td>\n",
       "      <td>16.1</td>\n",
       "      <td>6.7</td>\n",
       "      <td>0.4</td>\n",
       "      <td>8.3</td>\n",
       "    </tr>\n",
       "    <tr>\n",
       "      <th>4</th>\n",
       "      <td>1009</td>\n",
       "      <td>Alabama</td>\n",
       "      <td>Blount</td>\n",
       "      <td>57710</td>\n",
       "      <td>28512</td>\n",
       "      <td>29198</td>\n",
       "      <td>8.6</td>\n",
       "      <td>87.9</td>\n",
       "      <td>1.5</td>\n",
       "      <td>0.3</td>\n",
       "      <td>...</td>\n",
       "      <td>0.9</td>\n",
       "      <td>0.4</td>\n",
       "      <td>2.3</td>\n",
       "      <td>34.9</td>\n",
       "      <td>22189</td>\n",
       "      <td>82.0</td>\n",
       "      <td>13.5</td>\n",
       "      <td>4.2</td>\n",
       "      <td>0.4</td>\n",
       "      <td>7.7</td>\n",
       "    </tr>\n",
       "    <tr>\n",
       "      <th>...</th>\n",
       "      <td>...</td>\n",
       "      <td>...</td>\n",
       "      <td>...</td>\n",
       "      <td>...</td>\n",
       "      <td>...</td>\n",
       "      <td>...</td>\n",
       "      <td>...</td>\n",
       "      <td>...</td>\n",
       "      <td>...</td>\n",
       "      <td>...</td>\n",
       "      <td>...</td>\n",
       "      <td>...</td>\n",
       "      <td>...</td>\n",
       "      <td>...</td>\n",
       "      <td>...</td>\n",
       "      <td>...</td>\n",
       "      <td>...</td>\n",
       "      <td>...</td>\n",
       "      <td>...</td>\n",
       "      <td>...</td>\n",
       "      <td>...</td>\n",
       "    </tr>\n",
       "    <tr>\n",
       "      <th>3215</th>\n",
       "      <td>72145</td>\n",
       "      <td>Puerto Rico</td>\n",
       "      <td>Vega Baja</td>\n",
       "      <td>56858</td>\n",
       "      <td>27379</td>\n",
       "      <td>29479</td>\n",
       "      <td>96.4</td>\n",
       "      <td>3.4</td>\n",
       "      <td>0.1</td>\n",
       "      <td>0.0</td>\n",
       "      <td>...</td>\n",
       "      <td>1.2</td>\n",
       "      <td>1.3</td>\n",
       "      <td>0.3</td>\n",
       "      <td>32.0</td>\n",
       "      <td>13660</td>\n",
       "      <td>78.3</td>\n",
       "      <td>17.6</td>\n",
       "      <td>4.1</td>\n",
       "      <td>0.0</td>\n",
       "      <td>15.2</td>\n",
       "    </tr>\n",
       "    <tr>\n",
       "      <th>3216</th>\n",
       "      <td>72147</td>\n",
       "      <td>Puerto Rico</td>\n",
       "      <td>Vieques</td>\n",
       "      <td>9130</td>\n",
       "      <td>4585</td>\n",
       "      <td>4545</td>\n",
       "      <td>96.7</td>\n",
       "      <td>2.9</td>\n",
       "      <td>0.0</td>\n",
       "      <td>0.0</td>\n",
       "      <td>...</td>\n",
       "      <td>10.8</td>\n",
       "      <td>0.0</td>\n",
       "      <td>1.4</td>\n",
       "      <td>14.0</td>\n",
       "      <td>2860</td>\n",
       "      <td>44.5</td>\n",
       "      <td>41.6</td>\n",
       "      <td>13.6</td>\n",
       "      <td>0.3</td>\n",
       "      <td>12.2</td>\n",
       "    </tr>\n",
       "    <tr>\n",
       "      <th>3217</th>\n",
       "      <td>72149</td>\n",
       "      <td>Puerto Rico</td>\n",
       "      <td>Villalba</td>\n",
       "      <td>24685</td>\n",
       "      <td>12086</td>\n",
       "      <td>12599</td>\n",
       "      <td>99.7</td>\n",
       "      <td>0.0</td>\n",
       "      <td>0.0</td>\n",
       "      <td>0.0</td>\n",
       "      <td>...</td>\n",
       "      <td>3.2</td>\n",
       "      <td>0.0</td>\n",
       "      <td>3.3</td>\n",
       "      <td>26.9</td>\n",
       "      <td>6795</td>\n",
       "      <td>59.2</td>\n",
       "      <td>27.5</td>\n",
       "      <td>13.1</td>\n",
       "      <td>0.2</td>\n",
       "      <td>25.9</td>\n",
       "    </tr>\n",
       "    <tr>\n",
       "      <th>3218</th>\n",
       "      <td>72151</td>\n",
       "      <td>Puerto Rico</td>\n",
       "      <td>Yabucoa</td>\n",
       "      <td>36279</td>\n",
       "      <td>17648</td>\n",
       "      <td>18631</td>\n",
       "      <td>99.8</td>\n",
       "      <td>0.2</td>\n",
       "      <td>0.0</td>\n",
       "      <td>0.0</td>\n",
       "      <td>...</td>\n",
       "      <td>2.3</td>\n",
       "      <td>2.3</td>\n",
       "      <td>1.5</td>\n",
       "      <td>29.5</td>\n",
       "      <td>8083</td>\n",
       "      <td>65.1</td>\n",
       "      <td>27.6</td>\n",
       "      <td>7.3</td>\n",
       "      <td>0.0</td>\n",
       "      <td>24.3</td>\n",
       "    </tr>\n",
       "    <tr>\n",
       "      <th>3219</th>\n",
       "      <td>72153</td>\n",
       "      <td>Puerto Rico</td>\n",
       "      <td>Yauco</td>\n",
       "      <td>39474</td>\n",
       "      <td>19047</td>\n",
       "      <td>20427</td>\n",
       "      <td>99.5</td>\n",
       "      <td>0.5</td>\n",
       "      <td>0.0</td>\n",
       "      <td>0.0</td>\n",
       "      <td>...</td>\n",
       "      <td>1.6</td>\n",
       "      <td>0.7</td>\n",
       "      <td>3.1</td>\n",
       "      <td>24.6</td>\n",
       "      <td>8923</td>\n",
       "      <td>68.0</td>\n",
       "      <td>27.6</td>\n",
       "      <td>4.4</td>\n",
       "      <td>0.0</td>\n",
       "      <td>27.1</td>\n",
       "    </tr>\n",
       "  </tbody>\n",
       "</table>\n",
       "<p>3220 rows × 37 columns</p>\n",
       "</div>"
      ],
      "text/plain": [
       "      CensusId        State     County  TotalPop    Men  Women  Hispanic  \\\n",
       "0         1001      Alabama    Autauga     55221  26745  28476       2.6   \n",
       "1         1003      Alabama    Baldwin    195121  95314  99807       4.5   \n",
       "2         1005      Alabama    Barbour     26932  14497  12435       4.6   \n",
       "3         1007      Alabama       Bibb     22604  12073  10531       2.2   \n",
       "4         1009      Alabama     Blount     57710  28512  29198       8.6   \n",
       "...        ...          ...        ...       ...    ...    ...       ...   \n",
       "3215     72145  Puerto Rico  Vega Baja     56858  27379  29479      96.4   \n",
       "3216     72147  Puerto Rico    Vieques      9130   4585   4545      96.7   \n",
       "3217     72149  Puerto Rico   Villalba     24685  12086  12599      99.7   \n",
       "3218     72151  Puerto Rico    Yabucoa     36279  17648  18631      99.8   \n",
       "3219     72153  Puerto Rico      Yauco     39474  19047  20427      99.5   \n",
       "\n",
       "      White  Black  Native  ...  Walk  OtherTransp  WorkAtHome  MeanCommute  \\\n",
       "0      75.8   18.5     0.4  ...   0.5          1.3         1.8         26.5   \n",
       "1      83.1    9.5     0.6  ...   1.0          1.4         3.9         26.4   \n",
       "2      46.2   46.7     0.2  ...   1.8          1.5         1.6         24.1   \n",
       "3      74.5   21.4     0.4  ...   0.6          1.5         0.7         28.8   \n",
       "4      87.9    1.5     0.3  ...   0.9          0.4         2.3         34.9   \n",
       "...     ...    ...     ...  ...   ...          ...         ...          ...   \n",
       "3215    3.4    0.1     0.0  ...   1.2          1.3         0.3         32.0   \n",
       "3216    2.9    0.0     0.0  ...  10.8          0.0         1.4         14.0   \n",
       "3217    0.0    0.0     0.0  ...   3.2          0.0         3.3         26.9   \n",
       "3218    0.2    0.0     0.0  ...   2.3          2.3         1.5         29.5   \n",
       "3219    0.5    0.0     0.0  ...   1.6          0.7         3.1         24.6   \n",
       "\n",
       "      Employed  PrivateWork  PublicWork  SelfEmployed  FamilyWork  \\\n",
       "0        23986         73.6        20.9           5.5         0.0   \n",
       "1        85953         81.5        12.3           5.8         0.4   \n",
       "2         8597         71.8        20.8           7.3         0.1   \n",
       "3         8294         76.8        16.1           6.7         0.4   \n",
       "4        22189         82.0        13.5           4.2         0.4   \n",
       "...        ...          ...         ...           ...         ...   \n",
       "3215     13660         78.3        17.6           4.1         0.0   \n",
       "3216      2860         44.5        41.6          13.6         0.3   \n",
       "3217      6795         59.2        27.5          13.1         0.2   \n",
       "3218      8083         65.1        27.6           7.3         0.0   \n",
       "3219      8923         68.0        27.6           4.4         0.0   \n",
       "\n",
       "      Unemployment  \n",
       "0              7.6  \n",
       "1              7.5  \n",
       "2             17.6  \n",
       "3              8.3  \n",
       "4              7.7  \n",
       "...            ...  \n",
       "3215          15.2  \n",
       "3216          12.2  \n",
       "3217          25.9  \n",
       "3218          24.3  \n",
       "3219          27.1  \n",
       "\n",
       "[3220 rows x 37 columns]"
      ]
     },
     "execution_count": 15,
     "metadata": {},
     "output_type": "execute_result"
    }
   ],
   "source": [
    "data_folder = './data/'\n",
    "df = pd.read_csv(data_folder + 'acs2015_county_data.csv')\n",
    "df"
   ]
  },
  {
   "cell_type": "code",
   "execution_count": 12,
   "metadata": {},
   "outputs": [
    {
     "data": {
      "text/plain": [
       "Index(['CensusId', 'State', 'County', 'TotalPop', 'Men', 'Women', 'Hispanic',\n",
       "       'White', 'Black', 'Native', 'Asian', 'Pacific', 'Citizen', 'Income',\n",
       "       'IncomeErr', 'IncomePerCap', 'IncomePerCapErr', 'Poverty',\n",
       "       'ChildPoverty', 'Professional', 'Service', 'Office', 'Construction',\n",
       "       'Production', 'Drive', 'Carpool', 'Transit', 'Walk', 'OtherTransp',\n",
       "       'WorkAtHome', 'MeanCommute', 'Employed', 'PrivateWork', 'PublicWork',\n",
       "       'SelfEmployed', 'FamilyWork', 'Unemployment'],\n",
       "      dtype='object')"
      ]
     },
     "execution_count": 12,
     "metadata": {},
     "output_type": "execute_result"
    }
   ],
   "source": [
    "df.columns"
   ]
  },
  {
   "cell_type": "code",
   "execution_count": 13,
   "metadata": {},
   "outputs": [
    {
     "data": {
      "text/html": [
       "<div>\n",
       "<style scoped>\n",
       "    .dataframe tbody tr th:only-of-type {\n",
       "        vertical-align: middle;\n",
       "    }\n",
       "\n",
       "    .dataframe tbody tr th {\n",
       "        vertical-align: top;\n",
       "    }\n",
       "\n",
       "    .dataframe thead th {\n",
       "        text-align: right;\n",
       "    }\n",
       "</style>\n",
       "<table border=\"1\" class=\"dataframe\">\n",
       "  <thead>\n",
       "    <tr style=\"text-align: right;\">\n",
       "      <th></th>\n",
       "      <th>CensusId</th>\n",
       "      <th>State</th>\n",
       "      <th>County</th>\n",
       "      <th>TotalPop</th>\n",
       "      <th>Men</th>\n",
       "      <th>Women</th>\n",
       "      <th>Hispanic</th>\n",
       "      <th>White</th>\n",
       "      <th>Black</th>\n",
       "      <th>Native</th>\n",
       "      <th>...</th>\n",
       "      <th>Walk</th>\n",
       "      <th>OtherTransp</th>\n",
       "      <th>WorkAtHome</th>\n",
       "      <th>MeanCommute</th>\n",
       "      <th>Employed</th>\n",
       "      <th>PrivateWork</th>\n",
       "      <th>PublicWork</th>\n",
       "      <th>SelfEmployed</th>\n",
       "      <th>FamilyWork</th>\n",
       "      <th>Unemployment</th>\n",
       "    </tr>\n",
       "  </thead>\n",
       "  <tbody>\n",
       "    <tr>\n",
       "      <th>107</th>\n",
       "      <td>4021</td>\n",
       "      <td>Arizona</td>\n",
       "      <td>Pinal</td>\n",
       "      <td>389772</td>\n",
       "      <td>202502</td>\n",
       "      <td>187270</td>\n",
       "      <td>29.1</td>\n",
       "      <td>58.0</td>\n",
       "      <td>4.4</td>\n",
       "      <td>4.7</td>\n",
       "      <td>...</td>\n",
       "      <td>1.3</td>\n",
       "      <td>2.4</td>\n",
       "      <td>5.5</td>\n",
       "      <td>31.2</td>\n",
       "      <td>134182</td>\n",
       "      <td>76.2</td>\n",
       "      <td>18.5</td>\n",
       "      <td>5.0</td>\n",
       "      <td>0.2</td>\n",
       "      <td>10.6</td>\n",
       "    </tr>\n",
       "    <tr>\n",
       "      <th>1698</th>\n",
       "      <td>31089</td>\n",
       "      <td>Nebraska</td>\n",
       "      <td>Holt</td>\n",
       "      <td>10398</td>\n",
       "      <td>5151</td>\n",
       "      <td>5247</td>\n",
       "      <td>3.6</td>\n",
       "      <td>94.9</td>\n",
       "      <td>0.1</td>\n",
       "      <td>0.8</td>\n",
       "      <td>...</td>\n",
       "      <td>5.0</td>\n",
       "      <td>0.7</td>\n",
       "      <td>10.5</td>\n",
       "      <td>13.9</td>\n",
       "      <td>5529</td>\n",
       "      <td>67.6</td>\n",
       "      <td>14.0</td>\n",
       "      <td>18.1</td>\n",
       "      <td>0.4</td>\n",
       "      <td>0.9</td>\n",
       "    </tr>\n",
       "    <tr>\n",
       "      <th>2517</th>\n",
       "      <td>47179</td>\n",
       "      <td>Tennessee</td>\n",
       "      <td>Washington</td>\n",
       "      <td>125317</td>\n",
       "      <td>60955</td>\n",
       "      <td>64362</td>\n",
       "      <td>3.2</td>\n",
       "      <td>89.5</td>\n",
       "      <td>3.9</td>\n",
       "      <td>0.3</td>\n",
       "      <td>...</td>\n",
       "      <td>1.1</td>\n",
       "      <td>2.1</td>\n",
       "      <td>3.9</td>\n",
       "      <td>20.6</td>\n",
       "      <td>57193</td>\n",
       "      <td>76.8</td>\n",
       "      <td>17.1</td>\n",
       "      <td>6.0</td>\n",
       "      <td>0.1</td>\n",
       "      <td>6.2</td>\n",
       "    </tr>\n",
       "    <tr>\n",
       "      <th>221</th>\n",
       "      <td>6071</td>\n",
       "      <td>California</td>\n",
       "      <td>San Bernardino</td>\n",
       "      <td>2094769</td>\n",
       "      <td>1042053</td>\n",
       "      <td>1052716</td>\n",
       "      <td>51.1</td>\n",
       "      <td>31.2</td>\n",
       "      <td>8.1</td>\n",
       "      <td>0.4</td>\n",
       "      <td>...</td>\n",
       "      <td>1.8</td>\n",
       "      <td>1.2</td>\n",
       "      <td>4.2</td>\n",
       "      <td>30.4</td>\n",
       "      <td>829145</td>\n",
       "      <td>76.4</td>\n",
       "      <td>16.7</td>\n",
       "      <td>6.7</td>\n",
       "      <td>0.2</td>\n",
       "      <td>12.6</td>\n",
       "    </tr>\n",
       "    <tr>\n",
       "      <th>1980</th>\n",
       "      <td>37181</td>\n",
       "      <td>North Carolina</td>\n",
       "      <td>Vance</td>\n",
       "      <td>44829</td>\n",
       "      <td>20984</td>\n",
       "      <td>23845</td>\n",
       "      <td>7.1</td>\n",
       "      <td>41.2</td>\n",
       "      <td>49.3</td>\n",
       "      <td>0.3</td>\n",
       "      <td>...</td>\n",
       "      <td>2.1</td>\n",
       "      <td>0.3</td>\n",
       "      <td>1.8</td>\n",
       "      <td>22.4</td>\n",
       "      <td>17461</td>\n",
       "      <td>74.9</td>\n",
       "      <td>20.6</td>\n",
       "      <td>4.4</td>\n",
       "      <td>0.0</td>\n",
       "      <td>12.2</td>\n",
       "    </tr>\n",
       "    <tr>\n",
       "      <th>2743</th>\n",
       "      <td>48441</td>\n",
       "      <td>Texas</td>\n",
       "      <td>Taylor</td>\n",
       "      <td>134435</td>\n",
       "      <td>65704</td>\n",
       "      <td>68731</td>\n",
       "      <td>23.2</td>\n",
       "      <td>65.6</td>\n",
       "      <td>7.2</td>\n",
       "      <td>0.4</td>\n",
       "      <td>...</td>\n",
       "      <td>2.3</td>\n",
       "      <td>1.8</td>\n",
       "      <td>2.5</td>\n",
       "      <td>15.9</td>\n",
       "      <td>60708</td>\n",
       "      <td>77.5</td>\n",
       "      <td>16.5</td>\n",
       "      <td>5.7</td>\n",
       "      <td>0.2</td>\n",
       "      <td>5.9</td>\n",
       "    </tr>\n",
       "    <tr>\n",
       "      <th>1302</th>\n",
       "      <td>26143</td>\n",
       "      <td>Michigan</td>\n",
       "      <td>Roscommon</td>\n",
       "      <td>24068</td>\n",
       "      <td>11989</td>\n",
       "      <td>12079</td>\n",
       "      <td>1.4</td>\n",
       "      <td>95.6</td>\n",
       "      <td>0.2</td>\n",
       "      <td>1.1</td>\n",
       "      <td>...</td>\n",
       "      <td>2.5</td>\n",
       "      <td>1.4</td>\n",
       "      <td>3.8</td>\n",
       "      <td>22.4</td>\n",
       "      <td>7563</td>\n",
       "      <td>79.5</td>\n",
       "      <td>13.9</td>\n",
       "      <td>6.0</td>\n",
       "      <td>0.6</td>\n",
       "      <td>14.2</td>\n",
       "    </tr>\n",
       "    <tr>\n",
       "      <th>2977</th>\n",
       "      <td>53049</td>\n",
       "      <td>Washington</td>\n",
       "      <td>Pacific</td>\n",
       "      <td>20645</td>\n",
       "      <td>10371</td>\n",
       "      <td>10274</td>\n",
       "      <td>8.8</td>\n",
       "      <td>83.2</td>\n",
       "      <td>0.3</td>\n",
       "      <td>1.6</td>\n",
       "      <td>...</td>\n",
       "      <td>4.1</td>\n",
       "      <td>2.6</td>\n",
       "      <td>3.9</td>\n",
       "      <td>19.1</td>\n",
       "      <td>7141</td>\n",
       "      <td>70.2</td>\n",
       "      <td>22.1</td>\n",
       "      <td>7.7</td>\n",
       "      <td>0.0</td>\n",
       "      <td>8.9</td>\n",
       "    </tr>\n",
       "    <tr>\n",
       "      <th>2323</th>\n",
       "      <td>45015</td>\n",
       "      <td>South Carolina</td>\n",
       "      <td>Berkeley</td>\n",
       "      <td>193613</td>\n",
       "      <td>96518</td>\n",
       "      <td>97095</td>\n",
       "      <td>6.1</td>\n",
       "      <td>64.0</td>\n",
       "      <td>24.3</td>\n",
       "      <td>0.5</td>\n",
       "      <td>...</td>\n",
       "      <td>3.0</td>\n",
       "      <td>1.2</td>\n",
       "      <td>3.0</td>\n",
       "      <td>26.1</td>\n",
       "      <td>84494</td>\n",
       "      <td>76.5</td>\n",
       "      <td>19.1</td>\n",
       "      <td>4.3</td>\n",
       "      <td>0.1</td>\n",
       "      <td>9.9</td>\n",
       "    </tr>\n",
       "    <tr>\n",
       "      <th>968</th>\n",
       "      <td>20161</td>\n",
       "      <td>Kansas</td>\n",
       "      <td>Riley</td>\n",
       "      <td>75022</td>\n",
       "      <td>40002</td>\n",
       "      <td>35020</td>\n",
       "      <td>7.8</td>\n",
       "      <td>77.6</td>\n",
       "      <td>6.3</td>\n",
       "      <td>0.4</td>\n",
       "      <td>...</td>\n",
       "      <td>8.9</td>\n",
       "      <td>2.3</td>\n",
       "      <td>8.3</td>\n",
       "      <td>15.7</td>\n",
       "      <td>34186</td>\n",
       "      <td>65.1</td>\n",
       "      <td>30.5</td>\n",
       "      <td>4.3</td>\n",
       "      <td>0.1</td>\n",
       "      <td>5.8</td>\n",
       "    </tr>\n",
       "  </tbody>\n",
       "</table>\n",
       "<p>10 rows × 37 columns</p>\n",
       "</div>"
      ],
      "text/plain": [
       "      CensusId           State          County  TotalPop      Men    Women  \\\n",
       "107       4021         Arizona           Pinal    389772   202502   187270   \n",
       "1698     31089        Nebraska            Holt     10398     5151     5247   \n",
       "2517     47179       Tennessee      Washington    125317    60955    64362   \n",
       "221       6071      California  San Bernardino   2094769  1042053  1052716   \n",
       "1980     37181  North Carolina           Vance     44829    20984    23845   \n",
       "2743     48441           Texas          Taylor    134435    65704    68731   \n",
       "1302     26143        Michigan       Roscommon     24068    11989    12079   \n",
       "2977     53049      Washington         Pacific     20645    10371    10274   \n",
       "2323     45015  South Carolina        Berkeley    193613    96518    97095   \n",
       "968      20161          Kansas           Riley     75022    40002    35020   \n",
       "\n",
       "      Hispanic  White  Black  Native  ...  Walk  OtherTransp  WorkAtHome  \\\n",
       "107       29.1   58.0    4.4     4.7  ...   1.3          2.4         5.5   \n",
       "1698       3.6   94.9    0.1     0.8  ...   5.0          0.7        10.5   \n",
       "2517       3.2   89.5    3.9     0.3  ...   1.1          2.1         3.9   \n",
       "221       51.1   31.2    8.1     0.4  ...   1.8          1.2         4.2   \n",
       "1980       7.1   41.2   49.3     0.3  ...   2.1          0.3         1.8   \n",
       "2743      23.2   65.6    7.2     0.4  ...   2.3          1.8         2.5   \n",
       "1302       1.4   95.6    0.2     1.1  ...   2.5          1.4         3.8   \n",
       "2977       8.8   83.2    0.3     1.6  ...   4.1          2.6         3.9   \n",
       "2323       6.1   64.0   24.3     0.5  ...   3.0          1.2         3.0   \n",
       "968        7.8   77.6    6.3     0.4  ...   8.9          2.3         8.3   \n",
       "\n",
       "      MeanCommute  Employed  PrivateWork  PublicWork  SelfEmployed  \\\n",
       "107          31.2    134182         76.2        18.5           5.0   \n",
       "1698         13.9      5529         67.6        14.0          18.1   \n",
       "2517         20.6     57193         76.8        17.1           6.0   \n",
       "221          30.4    829145         76.4        16.7           6.7   \n",
       "1980         22.4     17461         74.9        20.6           4.4   \n",
       "2743         15.9     60708         77.5        16.5           5.7   \n",
       "1302         22.4      7563         79.5        13.9           6.0   \n",
       "2977         19.1      7141         70.2        22.1           7.7   \n",
       "2323         26.1     84494         76.5        19.1           4.3   \n",
       "968          15.7     34186         65.1        30.5           4.3   \n",
       "\n",
       "      FamilyWork  Unemployment  \n",
       "107          0.2          10.6  \n",
       "1698         0.4           0.9  \n",
       "2517         0.1           6.2  \n",
       "221          0.2          12.6  \n",
       "1980         0.0          12.2  \n",
       "2743         0.2           5.9  \n",
       "1302         0.6          14.2  \n",
       "2977         0.0           8.9  \n",
       "2323         0.1           9.9  \n",
       "968          0.1           5.8  \n",
       "\n",
       "[10 rows x 37 columns]"
      ]
     },
     "execution_count": 13,
     "metadata": {},
     "output_type": "execute_result"
    }
   ],
   "source": [
    "df.sample(10)"
   ]
  },
  {
   "cell_type": "markdown",
   "metadata": {},
   "source": [
    "- We will focus first on income per capita across counties."
   ]
  },
  {
   "cell_type": "code",
   "execution_count": 16,
   "metadata": {},
   "outputs": [
    {
     "data": {
      "text/plain": [
       "<Axes: >"
      ]
     },
     "execution_count": 16,
     "metadata": {},
     "output_type": "execute_result"
    },
    {
     "data": {
      "image/png": "[encoded data removed]",
      "text/plain": [
       "<Figure size 640x480 with 1 Axes>"
      ]
     },
     "metadata": {},
     "output_type": "display_data"
    }
   ],
   "source": [
    "df['IncomePerCap'].hist(bins = 50)"
   ]
  },
  {
   "cell_type": "markdown",
   "metadata": {},
   "source": [
    "### 1. Calculating descriptive statisctics\n",
    "\n",
    "- Let's calculate basic descriptive statistics of the income per capita."
   ]
  },
  {
   "cell_type": "code",
   "execution_count": 17,
   "metadata": {},
   "outputs": [
    {
     "data": {
      "text/plain": [
       "count     3220.000000\n",
       "mean     23981.771739\n",
       "std       6204.339960\n",
       "min       5878.000000\n",
       "25%      20238.500000\n",
       "50%      23460.000000\n",
       "75%      27053.250000\n",
       "max      65600.000000\n",
       "Name: IncomePerCap, dtype: float64"
      ]
     },
     "execution_count": 17,
     "metadata": {},
     "output_type": "execute_result"
    }
   ],
   "source": [
    "df['IncomePerCap'].describe()"
   ]
  },
  {
   "cell_type": "markdown",
   "metadata": {},
   "source": [
    "- What distribution does the data come from? Here is how we can test the goodness of the fit."
   ]
  },
  {
   "cell_type": "code",
   "execution_count": 18,
   "metadata": {},
   "outputs": [
    {
     "data": {
      "text/plain": [
       "(0.0637621121184162, 0.0009999999999998899)"
      ]
     },
     "execution_count": 18,
     "metadata": {},
     "output_type": "execute_result"
    }
   ],
   "source": [
    "# does the data come from a normal distrbution?\n",
    "diagnostic.kstest_normal(df['IncomePerCap'].values, dist = 'norm')"
   ]
  },
  {
   "cell_type": "markdown",
   "metadata": {},
   "source": [
    "- p_value < 0.05 -> we can reject the null hypothesis that the data comes from a normal distribution!"
   ]
  },
  {
   "cell_type": "code",
   "execution_count": 19,
   "metadata": {},
   "outputs": [
    {
     "data": {
      "text/plain": [
       "(0.433243770582646, 0.0009999999999998899)"
      ]
     },
     "execution_count": 19,
     "metadata": {},
     "output_type": "execute_result"
    }
   ],
   "source": [
    "#how about exponential?\n",
    "diagnostic.kstest_normal(df['IncomePerCap'].values, dist = 'exp')"
   ]
  },
  {
   "cell_type": "markdown",
   "metadata": {},
   "source": [
    "- p < 0.05 -> not exponential either!"
   ]
  },
  {
   "cell_type": "markdown",
   "metadata": {},
   "source": [
    "### 2. How to sample the data"
   ]
  },
  {
   "cell_type": "markdown",
   "metadata": {},
   "source": [
    "- Often we need to find random samples from the dataset. We can do so conveniently with pandas wrappers."
   ]
  },
  {
   "cell_type": "code",
   "execution_count": 20,
   "metadata": {},
   "outputs": [],
   "source": [
    "#make 10 samples with replacement\n",
    "sample1_counties = df.sample(n = 10, replace = True)\n",
    "\n",
    "#make 10 samples without replacement\n",
    "sample1_counties = df.sample(n = 10, replace = False)\n",
    "\n",
    "#sometimes we want to sample in an ublanaced way, so that we upsample datapoints of certain characteristic,\n",
    "#and downsample the others. this can be acieved with weights parameter\n",
    "#here we sample by upsampling counties with large population\n",
    "sample2_counties = df.sample(n = 10, replace = False, weights = df['TotalPop'])"
   ]
  },
  {
   "cell_type": "code",
   "execution_count": 21,
   "metadata": {},
   "outputs": [
    {
     "name": "stdout",
     "output_type": "stream",
     "text": [
      "183568.7\n",
      "610497.3\n"
     ]
    }
   ],
   "source": [
    "#on avergage, the samples in the sample produce with reveighting now have higher population, as we wanted!\n",
    "print(sample1_counties['TotalPop'].mean())\n",
    "print(sample2_counties['TotalPop'].mean())"
   ]
  },
  {
   "cell_type": "markdown",
   "metadata": {},
   "source": [
    "### 3. Examining relationship between two variables"
   ]
  },
  {
   "cell_type": "markdown",
   "metadata": {},
   "source": [
    "- Is income per capita of a county correlated with the unemployment?"
   ]
  },
  {
   "cell_type": "code",
   "execution_count": 22,
   "metadata": {},
   "outputs": [
    {
     "data": {
      "text/plain": [
       "PearsonRResult(statistic=0.2646136320394488, pvalue=9.942215354239553e-53)"
      ]
     },
     "execution_count": 22,
     "metadata": {},
     "output_type": "execute_result"
    }
   ],
   "source": [
    "stats.pearsonr(df['IncomePerCap'],df['Employed'])"
   ]
  },
  {
   "cell_type": "markdown",
   "metadata": {},
   "source": [
    "- There is a small (0.26), but significant (p < 0.05) positive correlation."
   ]
  },
  {
   "cell_type": "code",
   "execution_count": 23,
   "metadata": {},
   "outputs": [
    {
     "data": {
      "text/plain": [
       "SignificanceResult(statistic=0.30770631560595474, pvalue=1.415296431173735e-71)"
      ]
     },
     "execution_count": 23,
     "metadata": {},
     "output_type": "execute_result"
    }
   ],
   "source": [
    "stats.spearmanr(df['IncomePerCap'],df['Employed'])"
   ]
  },
  {
   "cell_type": "markdown",
   "metadata": {},
   "source": [
    "- Spearman rank coorrelation is also significant."
   ]
  },
  {
   "cell_type": "markdown",
   "metadata": {},
   "source": [
    "### 4. Hypothesis testing"
   ]
  },
  {
   "cell_type": "markdown",
   "metadata": {},
   "source": [
    "- Is income per capita higher in New York counties compared to California counties?"
   ]
  },
  {
   "cell_type": "code",
   "execution_count": 24,
   "metadata": {},
   "outputs": [
    {
     "data": {
      "text/plain": [
       "28189.75806451613"
      ]
     },
     "execution_count": 24,
     "metadata": {},
     "output_type": "execute_result"
    }
   ],
   "source": [
    "df.loc[df['State'] == 'New York']['IncomePerCap'].mean()"
   ]
  },
  {
   "cell_type": "code",
   "execution_count": 25,
   "metadata": {},
   "outputs": [
    {
     "data": {
      "text/plain": [
       "27902.603448275862"
      ]
     },
     "execution_count": 25,
     "metadata": {},
     "output_type": "execute_result"
    }
   ],
   "source": [
    "df.loc[df['State'] == 'California']['IncomePerCap'].mean()"
   ]
  },
  {
   "cell_type": "markdown",
   "metadata": {},
   "source": [
    "- We see that there is a ~300$ gap. Quite a lot!\n",
    "- But is it significantly higher? Let's use a t-test. This is a two-sided test for the null hypothesis that the two independent samples have identical average (expected) values. "
   ]
  },
  {
   "cell_type": "code",
   "execution_count": 27,
   "metadata": {},
   "outputs": [
    {
     "data": {
      "text/plain": [
       "TtestResult(statistic=0.19788117232375713, pvalue=0.8434785239169611, df=118.0)"
      ]
     },
     "execution_count": 27,
     "metadata": {},
     "output_type": "execute_result"
    }
   ],
   "source": [
    "stats.ttest_ind(df.loc[df['State'] == 'New York']['IncomePerCap'], df.loc[df['State'] == 'California']['IncomePerCap'])"
   ]
  },
  {
   "cell_type": "markdown",
   "metadata": {},
   "source": [
    "- p is not smaller than 0.05 -> we cannot reject the null hypothesis that the income is the same -> there is no significant difference"
   ]
  },
  {
   "cell_type": "markdown",
   "metadata": {},
   "source": [
    "### 5. How to measure uncertainty\n",
    "- Now we see the importance of mesuring uncertainty and indicating it on data visualizations.\n",
    "- Visual inspection of 95% confidence intervals lets us see that the difference is not significant (the errorbars are overlapping)."
   ]
  },
  {
   "cell_type": "code",
   "execution_count": 28,
   "metadata": {},
   "outputs": [
    {
     "name": "stderr",
     "output_type": "stream",
     "text": [
      "C:\\Users\\goali\\AppData\\Local\\Packages\\PythonSoftwareFoundation.Python.3.11_qbz5n2kfra8p0\\LocalCache\\local-packages\\Python311\\site-packages\\seaborn\\_oldcore.py:1498: FutureWarning: is_categorical_dtype is deprecated and will be removed in a future version. Use isinstance(dtype, CategoricalDtype) instead\n",
      "  if pd.api.types.is_categorical_dtype(vector):\n",
      "C:\\Users\\goali\\AppData\\Local\\Packages\\PythonSoftwareFoundation.Python.3.11_qbz5n2kfra8p0\\LocalCache\\local-packages\\Python311\\site-packages\\seaborn\\_oldcore.py:1498: FutureWarning: is_categorical_dtype is deprecated and will be removed in a future version. Use isinstance(dtype, CategoricalDtype) instead\n",
      "  if pd.api.types.is_categorical_dtype(vector):\n",
      "C:\\Users\\goali\\AppData\\Local\\Packages\\PythonSoftwareFoundation.Python.3.11_qbz5n2kfra8p0\\LocalCache\\local-packages\\Python311\\site-packages\\seaborn\\_oldcore.py:1498: FutureWarning: is_categorical_dtype is deprecated and will be removed in a future version. Use isinstance(dtype, CategoricalDtype) instead\n",
      "  if pd.api.types.is_categorical_dtype(vector):\n"
     ]
    },
    {
     "data": {
      "text/plain": [
       "(25000.0, 32000.0)"
      ]
     },
     "execution_count": 28,
     "metadata": {},
     "output_type": "execute_result"
    },
    {
     "data": {
      "image/png": "[encoded data removed]",
      "text/plain": [
       "<Figure size 640x480 with 1 Axes>"
      ]
     },
     "metadata": {},
     "output_type": "display_data"
    }
   ],
   "source": [
    "ax = sns.barplot(x=\"State\", y=\"IncomePerCap\", data=df.loc[df['State'].isin(['New York','California'])])\n",
    "plt.ylim([25000,32000])"
   ]
  },
  {
   "cell_type": "markdown",
   "metadata": {},
   "source": [
    "# Exercise 1: Boosting the economy by incentivizing self-employment\n",
    "\n",
    "Assume the biggest priority of the local government in 2018 is to increase per-capita income. To do so, the officials plan to adopt a strategy for incentivizing self-employment through a series of campaigns, educational programs, and dedicated funds.\n",
    "\n",
    "Since it is unethical and impossible in this setting to run a controlled experiment involving citizens (e.g., fire employees and force them to self-employ), the officials have asked you, the data scientist, to establish the effect of self-employment on the economy, relying on observational data.\n",
    "\n",
    "**A)** Using suitable methods, determine and quantify the dependency between the percentage of self-employed citizens and per capita income across all 3,212 US counties. Do citizens in counties that have a higher percentage of self-employed people earn more per capita?"
   ]
  },
  {
   "cell_type": "code",
   "execution_count": 47,
   "metadata": {},
   "outputs": [
    {
     "name": "stdout",
     "output_type": "stream",
     "text": [
      "La correlation de Pearson est égal à :  0.08727386609551786\n"
     ]
    },
    {
     "data": {
      "text/plain": [
       "Text(0.5, 0, 'IncomePerCap')"
      ]
     },
     "execution_count": 47,
     "metadata": {},
     "output_type": "execute_result"
    },
    {
     "data": {
      "image/png": "[encoded data removed]",
      "text/plain": [
       "<Figure size 640x480 with 1 Axes>"
      ]
     },
     "metadata": {},
     "output_type": "display_data"
    }
   ],
   "source": [
    "### your code and or answer here ###\n",
    "A =stats.pearsonr(df['IncomePerCap'],df['SelfEmployed'])\n",
    "print('La correlation de Pearson est égal à : ', A[0])\n",
    "\n",
    "#There is a very small dependecy btw the two variables -> Pearson Coefficient 0.08, so the answer is no \n",
    "\n",
    "plt.scatter(df['IncomePerCap'].values,df['SelfEmployed'].values)\n",
    "plt.title('Correlation btw IncomePerCap & SelfEmployed')\n",
    "plt.ylabel('Self_Employed')\n",
    "plt.xlabel('IncomePerCap')"
   ]
  },
  {
   "cell_type": "markdown",
   "metadata": {},
   "source": [
    "**B)** The pilot program will involve all counties within a limited set of three US states. Set A includes Wisconsin, Tennessee, and  Minnesota. Quantify the dependency of per-capita income on self-employment rates across all the counties in set A."
   ]
  },
  {
   "cell_type": "code",
   "execution_count": 71,
   "metadata": {},
   "outputs": [
    {
     "name": "stdout",
     "output_type": "stream",
     "text": [
      "La correlation de Pearson est égal à :  -0.202293507365215\n"
     ]
    },
    {
     "data": {
      "text/plain": [
       "Text(0.5, 0, 'IncomePerCap')"
      ]
     },
     "execution_count": 71,
     "metadata": {},
     "output_type": "execute_result"
    },
    {
     "data": {
      "image/png": "[encoded data removed]",
      "text/plain": [
       "<Figure size 640x480 with 1 Axes>"
      ]
     },
     "metadata": {},
     "output_type": "display_data"
    }
   ],
   "source": [
    "### your code and or answer here ##\n",
    "\n",
    "set = df.loc[df['State'].isin(['Wisconsin','Tennessee','Minnesota'])]\n",
    "#159x37\n",
    "\n",
    "spset = stats.pearsonr(set['IncomePerCap'],set['SelfEmployed'])\n",
    "print('La correlation de Pearson est égal à : ', spset[0])\n",
    "\n",
    "plt.scatter(set['IncomePerCap'].values,set['SelfEmployed'].values)\n",
    "plt.title('Correlation btw IncomePerCap & SelfEmployed for Set A')\n",
    "plt.ylabel('Self_Employed')\n",
    "plt.xlabel('IncomePerCap')\n",
    "\n",
    "\n",
    "#La corrélation est un peu plus élevée dans ce cas mais elle n'est non plus pas corrélée\n"
   ]
  },
  {
   "cell_type": "markdown",
   "metadata": {},
   "source": [
    "**C)** In which state within set A is the observed effect of self-employment on per-capita income the strongest?"
   ]
  },
  {
   "cell_type": "code",
   "execution_count": 74,
   "metadata": {},
   "outputs": [
    {
     "name": "stdout",
     "output_type": "stream",
     "text": [
      "La correlation de Pearson est égal à :  -0.32905300016378525\n",
      "La correlation de Pearson est égal à :  -0.2538551921654062\n",
      "La correlation de Pearson est égal à :  -0.23836048684913153\n"
     ]
    },
    {
     "data": {
      "text/plain": [
       "<matplotlib.collections.PathCollection at 0x23b477fa250>"
      ]
     },
     "execution_count": 74,
     "metadata": {},
     "output_type": "execute_result"
    },
    {
     "data": {
      "image/png": "[encoded data removed]",
      "text/plain": [
       "<Figure size 640x480 with 1 Axes>"
      ]
     },
     "metadata": {},
     "output_type": "display_data"
    }
   ],
   "source": [
    "### your code and or answer here ###\n",
    "wis = set.query(\"State == 'Wisconsin'\")\n",
    "set_wis = stats.pearsonr(wis['IncomePerCap'],wis['SelfEmployed'])\n",
    "print('La correlation de Pearson est égal à : ', set_wis[0])\n",
    "min = set.query(\"State == 'Minnesota'\")\n",
    "set_min = stats.pearsonr(min['IncomePerCap'],min['SelfEmployed'])\n",
    "print('La correlation de Pearson est égal à : ', set_min[0])\n",
    "ten = set.query(\"State == 'Tennessee'\")\n",
    "set_ten = stats.pearsonr(ten['IncomePerCap'],ten['SelfEmployed'])\n",
    "print('La correlation de Pearson est égal à : ', set_ten[0])\n",
    "\n",
    "#Nothing is really changing, but the State with more correlation is Wisconsin\n",
    "plt.scatter(wis['IncomePerCap'].values,wis['SelfEmployed'].values, color = 'y')\n",
    "plt.scatter(min['IncomePerCap'].values,min['SelfEmployed'].values, color = 'b')\n",
    "plt.scatter(ten['IncomePerCap'].values,ten['SelfEmployed'].values, color = 'g')\n",
    "\n"
   ]
  },
  {
   "cell_type": "markdown",
   "metadata": {},
   "source": [
    "**D)** Set B includes New Jersey, Kansas, and Rhode Island. Repeat the analysis from steps B and C above, but now for set B. In which of the two sets A and B (if any) would you recommend incentivizing self-employment? Explain your reasoning. Hint: It is useful to add a notion of confidence to your results and explore the data visually."
   ]
  },
  {
   "cell_type": "code",
   "execution_count": 81,
   "metadata": {},
   "outputs": [
    {
     "name": "stdout",
     "output_type": "stream",
     "text": [
      "La correlation de Pearson est égal à :  -0.23222141346085684\n"
     ]
    },
    {
     "data": {
      "text/plain": [
       "Text(0.5, 0, 'IncomePerCap')"
      ]
     },
     "execution_count": 81,
     "metadata": {},
     "output_type": "execute_result"
    },
    {
     "data": {
      "image/png": "[encoded data removed]",
      "text/plain": [
       "<Figure size 640x480 with 1 Axes>"
      ]
     },
     "metadata": {},
     "output_type": "display_data"
    }
   ],
   "source": [
    "### your code and or answer here ###\n",
    "set_2 = df.loc[df['State'].isin(['New Jersey','Kansas','Rhode Island'])]\n",
    "#159x37\n",
    "\n",
    "spset_2 = stats.pearsonr(set_2['IncomePerCap'],set_2['SelfEmployed'])\n",
    "print('La correlation de Pearson est égal à : ', spset_2[0])\n",
    "\n",
    "plt.scatter(set_2['IncomePerCap'].values,set_2['SelfEmployed'].values)\n",
    "plt.title('Correlation btw IncomePerCap & SelfEmployed for Set A')\n",
    "plt.ylabel('Self_Employed')\n",
    "plt.xlabel('IncomePerCap')\n"
   ]
  },
  {
   "cell_type": "code",
   "execution_count": 80,
   "metadata": {},
   "outputs": [
    {
     "name": "stdout",
     "output_type": "stream",
     "text": [
      "La correlation de Pearson est égal à :  0.48044784713362815\n",
      "La correlation de Pearson est égal à :  0.25810299714436924\n",
      "La correlation de Pearson est égal à :  0.9021788382149803\n"
     ]
    },
    {
     "data": {
      "text/plain": [
       "<matplotlib.collections.PathCollection at 0x23b47dd0a90>"
      ]
     },
     "execution_count": 80,
     "metadata": {},
     "output_type": "execute_result"
    },
    {
     "data": {
      "image/png": "[encoded data removed]",
      "text/plain": [
       "<Figure size 640x480 with 1 Axes>"
      ]
     },
     "metadata": {},
     "output_type": "display_data"
    }
   ],
   "source": [
    "### your code and or answer here ###\n",
    "nj = set_2.query(\"State == 'New Jersey'\")\n",
    "set_nj = stats.pearsonr(nj['IncomePerCap'],nj['SelfEmployed'])\n",
    "print('La correlation de Pearson est égal à : ', set_nj[0])\n",
    "k = set_2.query(\"State == 'Kansas'\")\n",
    "set_k = stats.pearsonr(k['IncomePerCap'],k['SelfEmployed'])\n",
    "print('La correlation de Pearson est égal à : ', set_k[0])\n",
    "RI = set_2.query(\"State == 'Rhode Island'\")\n",
    "set_RI = stats.pearsonr(RI['IncomePerCap'],RI['SelfEmployed'])\n",
    "print('La correlation de Pearson est égal à : ', set_RI[0])\n",
    "\n",
    "#Nothing is really changing, but the State with more correlation is Wisconsin\n",
    "plt.scatter(nj['IncomePerCap'].values,nj['SelfEmployed'].values, color = 'y')\n",
    "plt.scatter(k['IncomePerCap'].values,k['SelfEmployed'].values, color = 'b')\n",
    "plt.scatter(RI['IncomePerCap'].values,RI['SelfEmployed'].values, color = 'g')\n",
    "#Cette fois Rhode Island a une corrélation énorme proche de 1 "
   ]
  },
  {
   "cell_type": "markdown",
   "metadata": {},
   "source": [
    "# Exercise 2. Data visualization and read the stats comprehension and interpretation questions.\n",
    "\n",
    "- As part of the quizes, two homeworks and the final exam, you will be at times asked to interpret your result based on the understanding of underlying concepts. The questions below can help you practice and get a sense of how well you understand the concepts covered in the class so far. Can you answer these questions confidently?"
   ]
  },
  {
   "cell_type": "markdown",
   "metadata": {},
   "source": [
    "### Question 1. The yearly salaries (in thousands of CHF) of 7000 people are summarized in the following box plot. If the 20th percentile of the salaries is 110,000, how many people earn between 110,000 and 114,000?\n",
    "\n",
    "- a) 2100\n",
    "- b) 700\n",
    "- c) 350\n",
    "- d) 70"
   ]
  },
  {
   "cell_type": "markdown",
   "metadata": {},
   "source": [
    "<img src=\"boxplot.png\" style=\"width: 400px;\" align=\"left\"/>"
   ]
  },
  {
   "cell_type": "code",
   "execution_count": null,
   "metadata": {},
   "outputs": [],
   "source": [
    "### your code and or answer here ###"
   ]
  },
  {
   "cell_type": "markdown",
   "metadata": {},
   "source": [
    "### Question 2. What visualizations are suitable for getting insights about the distribution of a single continuous variable?\n",
    "\n",
    "- a) Barplot and histogram\n",
    "- b) Boxplot and histogram\n",
    "- c) Scatterplot and boxplot\n",
    "- d) Barplot, boxplot, and histogram"
   ]
  },
  {
   "cell_type": "code",
   "execution_count": null,
   "metadata": {},
   "outputs": [],
   "source": [
    "### your code and or answer here ###"
   ]
  },
  {
   "cell_type": "markdown",
   "metadata": {},
   "source": [
    "### Question 3. In a new groundbreaking study, 28 out of 100 patients reported improvements after taking a new medicine. It is known that, when given a placebo, 20% of the patients report feeling better. What is the p-value assuming the null hypothesis that the probability of successful treatment in this groundbreaking study is the same as the probability of reporting feeling better under placebo, according to a one-sided binomial test? Hint: you may use the statsmodels.stats.proportion.binom_test function.\n",
    "\n",
    "- a) 0.00034\n",
    "- b) 0.0034\n",
    "- c) 0.034\n",
    "- d) 0.34"
   ]
  },
  {
   "cell_type": "code",
   "execution_count": null,
   "metadata": {},
   "outputs": [],
   "source": [
    "### your code and or answer here ###"
   ]
  },
  {
   "cell_type": "markdown",
   "metadata": {},
   "source": [
    "### Question 4. The 95% confidence interval of the average height of 1000 people using bootstrap resampling with 10000 bootstrap samples is calculated by:\n",
    "\n",
    "- a) Sampling 1000 height values with replacement and computing the mean. This is repeated 10000 times to create a sorted list of the 10000 means. The CI is defined by the 500th and the 9500th value in sorted order.\n",
    "- b) Sampling 10000 height values without replacement and computing the mean. This is repeated 1000 times to create a sorted list of the 1000 means. The CI is defined by the 25th and the 975th value in sorted order.\n",
    "- c) Sampling 1000 height values with replacement and computing the mean. This is repeated 10000 times to create a sorted list of the 10000 means. The CI is defined by the 250th and the 9750th value in sorted order.\n",
    "- d) Sampling 1000 height values without replacement and computing the mean. This is repeated 10000 times to create a sorted list of the 10000 means. The CI is defined by the 500th and the 9500th value in sorted order.\n",
    "\n",
    "### Implement your bootstrapping function that you will use in the rest of the course. It should take an array and the number of iterations as inputs, and output 95% confidence intervals of the mean."
   ]
  },
  {
   "cell_type": "code",
   "execution_count": null,
   "metadata": {},
   "outputs": [],
   "source": [
    "### your code and or answer here ###"
   ]
  },
  {
   "cell_type": "markdown",
   "metadata": {},
   "source": [
    "### Question 5. A study conducted at EPFL revealed a negative Spearman’s correlation between GPA and entry-level job salary. Which of the following statements is true?\n",
    "\n",
    "- a) There could be a positive Spearman’s correlation between GPA and entry-level job salary in every single department of EPFL.\n",
    "- b) Spearman correlation between GPA and entry-level job salary in every single department has to be positive.\n",
    "- c) Across all levels, as opposed to entry-level only, higher GPA scores are associated with higher job salaries.\n",
    "- d) We can infer that finishing EPFL with a higher GPA causes you to have a lower entry-level job salary."
   ]
  },
  {
   "cell_type": "code",
   "execution_count": null,
   "metadata": {},
   "outputs": [],
   "source": [
    "### your code and or answer here ###"
   ]
  },
  {
   "cell_type": "markdown",
   "metadata": {},
   "source": [
    "### Question 6. The average number of requests per page during a day on a large website is 200, while the median is 15. \n",
    "\n",
    "- a) You can assume that the distribution is heavy-tailed.\n",
    "- b) You are dealing with a left-skewed distribution.\n",
    "- c) Half of the pages get more than 200 requests.\n",
    "- d) None of the above."
   ]
  },
  {
   "cell_type": "code",
   "execution_count": null,
   "metadata": {},
   "outputs": [],
   "source": [
    "### your code and or answer here ###"
   ]
  }
 ],
 "metadata": {
  "kernelspec": {
   "display_name": "Python 3 (ipykernel)",
   "language": "python",
   "name": "python3"
  },
  "language_info": {
   "codemirror_mode": {
    "name": "ipython",
    "version": 3
   },
   "file_extension": ".py",
   "mimetype": "text/x-python",
   "name": "python",
   "nbconvert_exporter": "python",
   "pygments_lexer": "ipython3",
   "version": "3.11.6"
  },
  "varInspector": {
   "cols": {
    "lenName": 16,
    "lenType": 16,
    "lenVar": 40
   },
   "kernels_config": {
    "python": {
     "delete_cmd_postfix": "",
     "delete_cmd_prefix": "del ",
     "library": "var_list.py",
     "varRefreshCmd": "print(var_dic_list())"
    },
    "r": {
     "delete_cmd_postfix": ") ",
     "delete_cmd_prefix": "rm(",
     "library": "var_list.r",
     "varRefreshCmd": "cat(var_dic_list()) "
    }
   },
   "types_to_exclude": [
    "module",
    "function",
    "builtin_function_or_method",
    "instance",
    "_Feature"
   ],
   "window_display": false
  }
 },
 "nbformat": 4,
 "nbformat_minor": 4
}
