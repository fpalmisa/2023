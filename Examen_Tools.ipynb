{
 "cells": [
  {
   "cell_type": "markdown",
   "metadata": {},
   "source": [
    "# Pandas + Python Tricks"
   ]
  },
  {
   "cell_type": "markdown",
   "metadata": {},
   "source": [
    "## Load Datas"
   ]
  },
  {
   "cell_type": "markdown",
   "metadata": {},
   "source": [
    "pickles = pd.read_pickle('Data/happiness2020.pkl')\n",
    "csv = pd.read_csv('Data/happiness2020.pkl)"
   ]
  },
  {
   "cell_type": "code",
   "execution_count": null,
   "metadata": {},
   "outputs": [],
   "source": [
    "#Select a column \n",
    "column = dataframe['column']\n",
    "\n",
    "#Mettre une colonne en minuscule\n",
    "minuscule = column.str.lower()\n",
    "\n",
    "#Insérer une colonne dans la dataframe existante \n",
    "dataframe.insert(0,'ColumnName',minuscule,True)\n",
    "\n",
    "#Drop une colonne \n",
    "dataframe = dataframe.drop('columnname', axis = 1)\n",
    "\n",
    "#Rename des colonnes\n",
    "dataframe = dataframe.rename(columns = {'Ancien_Name' : 'NewName'})\n",
    "\n",
    "#Merge des Datasets\n",
    "merging = pd.merge(dataframeA, dataframeB, how = 'outer,inner,...')\n",
    "\n",
    "#Sort Values in a columns \n",
    "sorted_columns = dataframe.sort_values('column_name', ascending = 'True, False')\n",
    "\n",
    "#Montrer qu'un certain nombre de colonnes \n",
    "sorted_columns.loc[:,['Country','happiness_score']]"
   ]
  },
  {
   "cell_type": "code",
   "execution_count": null,
   "metadata": {},
   "outputs": [],
   "source": []
  }
 ],
 "metadata": {
  "kernelspec": {
   "display_name": "Python 3",
   "language": "python",
   "name": "python3"
  },
  "language_info": {
   "codemirror_mode": {
    "name": "ipython",
    "version": 3
   },
   "file_extension": ".py",
   "mimetype": "text/x-python",
   "name": "python",
   "nbconvert_exporter": "python",
   "pygments_lexer": "ipython3",
   "version": "3.11.7"
  }
 },
 "nbformat": 4,
 "nbformat_minor": 2
}
